{
  "nbformat": 4,
  "nbformat_minor": 0,
  "metadata": {
    "colab": {
      "name": "Pytorch_Linear_regression_basics.ipynb",
      "provenance": [],
      "collapsed_sections": []
    },
    "kernelspec": {
      "name": "python3",
      "display_name": "Python 3"
    }
  },
  "cells": [
    {
      "cell_type": "code",
      "metadata": {
        "id": "-4gommJSAW4s",
        "colab_type": "code",
        "colab": {}
      },
      "source": [
        "import numpy as np\n",
        "import torch\n",
        "import torch.nn as nn"
      ],
      "execution_count": 0,
      "outputs": []
    },
    {
      "cell_type": "code",
      "metadata": {
        "id": "Som308MfAeNb",
        "colab_type": "code",
        "colab": {}
      },
      "source": [
        "# Input (Temperature, Rainfall, Humidity)\n",
        "inputs = np.array([[73,67,43], [91,88,64], [87,134,58],\n",
        "                   [102,43,37], [69,96,70], [73,67,43],\n",
        "                   [91,88,64], [87,134,58], [102,43,37],\n",
        "                   [69,96,70], [73,67,43], [91,88,64],\n",
        "                   [87,134,58], [102,43,37], [69,96,70]],\n",
        "                  dtype='float32')\n",
        "\n",
        "# Target (Apples,Orange)\n",
        "target = np.array([[56,70], [81,101], [119,133],\n",
        "                   [22,37], [103,119], [56,70],\n",
        "                   [81,101], [119,133], [22,37],\n",
        "                   [103,119], [56,70], [81,101],\n",
        "                   [119,133], [22,37], [103,119]],\n",
        "                  dtype='float32')\n",
        "\n",
        "inputs = torch.from_numpy(inputs)\n",
        "target = torch.from_numpy(target)"
      ],
      "execution_count": 0,
      "outputs": []
    },
    {
      "cell_type": "code",
      "metadata": {
        "id": "JCRAbgJyCurv",
        "colab_type": "code",
        "colab": {}
      },
      "source": [
        "from torch.utils.data import TensorDataset"
      ],
      "execution_count": 0,
      "outputs": []
    },
    {
      "cell_type": "code",
      "metadata": {
        "id": "nfhjeA8pDZx1",
        "colab_type": "code",
        "colab": {
          "base_uri": "https://localhost:8080/",
          "height": 520
        },
        "outputId": "6a308698-c20f-420d-cbb3-ac498850f824"
      },
      "source": [
        "train_ds = TensorDataset(inputs, target)\n",
        "train_ds[::]"
      ],
      "execution_count": 11,
      "outputs": [
        {
          "output_type": "execute_result",
          "data": {
            "text/plain": [
              "(tensor([[ 73.,  67.,  43.],\n",
              "         [ 91.,  88.,  64.],\n",
              "         [ 87., 134.,  58.],\n",
              "         [102.,  43.,  37.],\n",
              "         [ 69.,  96.,  70.],\n",
              "         [ 73.,  67.,  43.],\n",
              "         [ 91.,  88.,  64.],\n",
              "         [ 87., 134.,  58.],\n",
              "         [102.,  43.,  37.],\n",
              "         [ 69.,  96.,  70.],\n",
              "         [ 73.,  67.,  43.],\n",
              "         [ 91.,  88.,  64.],\n",
              "         [ 87., 134.,  58.],\n",
              "         [102.,  43.,  37.],\n",
              "         [ 69.,  96.,  70.]]), tensor([[ 56.,  70.],\n",
              "         [ 81., 101.],\n",
              "         [119., 133.],\n",
              "         [ 22.,  37.],\n",
              "         [103., 119.],\n",
              "         [ 56.,  70.],\n",
              "         [ 81., 101.],\n",
              "         [119., 133.],\n",
              "         [ 22.,  37.],\n",
              "         [103., 119.],\n",
              "         [ 56.,  70.],\n",
              "         [ 81., 101.],\n",
              "         [119., 133.],\n",
              "         [ 22.,  37.],\n",
              "         [103., 119.]]))"
            ]
          },
          "metadata": {
            "tags": []
          },
          "execution_count": 11
        }
      ]
    },
    {
      "cell_type": "code",
      "metadata": {
        "id": "rkuwI9hGDlIR",
        "colab_type": "code",
        "colab": {}
      },
      "source": [
        "from torch.utils.data import DataLoader"
      ],
      "execution_count": 0,
      "outputs": []
    },
    {
      "cell_type": "code",
      "metadata": {
        "id": "OXoPUuncGtNN",
        "colab_type": "code",
        "colab": {}
      },
      "source": [
        "batch_size = 5\n",
        "train_dl = DataLoader(train_ds,batch_size, shuffle=True)"
      ],
      "execution_count": 0,
      "outputs": []
    },
    {
      "cell_type": "code",
      "metadata": {
        "id": "tqJfleIJG-AA",
        "colab_type": "code",
        "colab": {
          "base_uri": "https://localhost:8080/",
          "height": 191
        },
        "outputId": "247a0c12-83e3-4bd4-b63a-7a0df1898f51"
      },
      "source": [
        "for xb,yb in train_dl:\n",
        "  print(xb)\n",
        "  print(yb)\n",
        "  break"
      ],
      "execution_count": 14,
      "outputs": [
        {
          "output_type": "stream",
          "text": [
            "tensor([[ 73.,  67.,  43.],\n",
            "        [ 91.,  88.,  64.],\n",
            "        [ 91.,  88.,  64.],\n",
            "        [ 91.,  88.,  64.],\n",
            "        [ 87., 134.,  58.]])\n",
            "tensor([[ 56.,  70.],\n",
            "        [ 81., 101.],\n",
            "        [ 81., 101.],\n",
            "        [ 81., 101.],\n",
            "        [119., 133.]])\n"
          ],
          "name": "stdout"
        }
      ]
    },
    {
      "cell_type": "code",
      "metadata": {
        "id": "_GFE-LckHLYA",
        "colab_type": "code",
        "colab": {
          "base_uri": "https://localhost:8080/",
          "height": 104
        },
        "outputId": "8358aa12-baee-4339-abfa-8ff12ef1b08b"
      },
      "source": [
        "model = nn.Linear(3,2)\n",
        "print(model.weight)\n",
        "print(model.bias)"
      ],
      "execution_count": 16,
      "outputs": [
        {
          "output_type": "stream",
          "text": [
            "Parameter containing:\n",
            "tensor([[ 0.5158,  0.4959, -0.0154],\n",
            "        [ 0.2588, -0.5266, -0.4025]], requires_grad=True)\n",
            "Parameter containing:\n",
            "tensor([0.1000, 0.4655], requires_grad=True)\n"
          ],
          "name": "stdout"
        }
      ]
    },
    {
      "cell_type": "code",
      "metadata": {
        "id": "ZzX_QsLdH7KV",
        "colab_type": "code",
        "colab": {
          "base_uri": "https://localhost:8080/",
          "height": 104
        },
        "outputId": "e3b15c60-4e77-41a8-fada-43295b9e0927"
      },
      "source": [
        "list(model.parameters())"
      ],
      "execution_count": 17,
      "outputs": [
        {
          "output_type": "execute_result",
          "data": {
            "text/plain": [
              "[Parameter containing:\n",
              " tensor([[ 0.5158,  0.4959, -0.0154],\n",
              "         [ 0.2588, -0.5266, -0.4025]], requires_grad=True),\n",
              " Parameter containing:\n",
              " tensor([0.1000, 0.4655], requires_grad=True)]"
            ]
          },
          "metadata": {
            "tags": []
          },
          "execution_count": 17
        }
      ]
    },
    {
      "cell_type": "code",
      "metadata": {
        "id": "WU5XrGavIZuQ",
        "colab_type": "code",
        "colab": {
          "base_uri": "https://localhost:8080/",
          "height": 277
        },
        "outputId": "5aaff24d-a6c3-40ee-8267-4a3d35353789"
      },
      "source": [
        "predect = model(inputs)\n",
        "predect"
      ],
      "execution_count": 18,
      "outputs": [
        {
          "output_type": "execute_result",
          "data": {
            "text/plain": [
              "tensor([[ 70.3134, -33.2303],\n",
              "        [ 89.6877, -48.0821],\n",
              "        [110.5261, -70.9249],\n",
              "        [ 73.4626, -10.6732],\n",
              "        [ 82.2152, -60.4026],\n",
              "        [ 70.3134, -33.2303],\n",
              "        [ 89.6877, -48.0821],\n",
              "        [110.5261, -70.9249],\n",
              "        [ 73.4626, -10.6732],\n",
              "        [ 82.2152, -60.4026],\n",
              "        [ 70.3134, -33.2303],\n",
              "        [ 89.6877, -48.0821],\n",
              "        [110.5261, -70.9249],\n",
              "        [ 73.4626, -10.6732],\n",
              "        [ 82.2152, -60.4026]], grad_fn=<AddmmBackward>)"
            ]
          },
          "metadata": {
            "tags": []
          },
          "execution_count": 18
        }
      ]
    },
    {
      "cell_type": "code",
      "metadata": {
        "id": "WNZx1YzvIsPh",
        "colab_type": "code",
        "colab": {}
      },
      "source": [
        "import torch.nn.functional as F"
      ],
      "execution_count": 0,
      "outputs": []
    },
    {
      "cell_type": "code",
      "metadata": {
        "id": "dl9Pxza7I_Ey",
        "colab_type": "code",
        "colab": {}
      },
      "source": [
        "loss_fn = F.mse_loss"
      ],
      "execution_count": 0,
      "outputs": []
    },
    {
      "cell_type": "code",
      "metadata": {
        "id": "-nq2tM4oJHiG",
        "colab_type": "code",
        "colab": {
          "base_uri": "https://localhost:8080/",
          "height": 35
        },
        "outputId": "3c6b0dae-df6f-43ee-d5be-b7b63c5bffe2"
      },
      "source": [
        "loss = loss_fn(model(inputs),target)\n",
        "print(loss)"
      ],
      "execution_count": 21,
      "outputs": [
        {
          "output_type": "stream",
          "text": [
            "tensor(11235.7910, grad_fn=<MseLossBackward>)\n"
          ],
          "name": "stdout"
        }
      ]
    },
    {
      "cell_type": "code",
      "metadata": {
        "id": "oUW2Uaz1JS_y",
        "colab_type": "code",
        "colab": {}
      },
      "source": [
        "opt = torch.optim.SGD(model.parameters(), lr=1e-5)"
      ],
      "execution_count": 0,
      "outputs": []
    },
    {
      "cell_type": "code",
      "metadata": {
        "id": "mWN1ZS3kKRfs",
        "colab_type": "code",
        "colab": {}
      },
      "source": [
        "# Utility function to train the model\n",
        "def fit(num_epochs, model, loss_fn, opt):\n",
        "  \n",
        "  #Repeat for given number of epochs\n",
        "  for epoch in range(num_epochs):\n",
        "    \n",
        "    #Train with batches of data\n",
        "    for xb,yb in train_dl:\n",
        "\n",
        "      # 1. Generate predictions\n",
        "      pred = model(xb)\n",
        "\n",
        "      # 2. Calculate loss\n",
        "      loss = loss_fn(pred, yb)\n",
        "\n",
        "      # 3. Compute gradients\n",
        "      loss.backward()\n",
        "\n",
        "      # 4. Update parameter using gradients\n",
        "      opt.step()\n",
        "\n",
        "      # 5. Reset the gradients to zero \n",
        "      opt.zero_grad()\n",
        "\n",
        "    # Print the progress\n",
        "    if (epoch+1) % 10 == 0:\n",
        "      print(\"Epoch [{}/{}], Loss: {:,.4f}\".format(epoch+1, num_epochs, loss.item()))"
      ],
      "execution_count": 0,
      "outputs": []
    },
    {
      "cell_type": "code",
      "metadata": {
        "id": "govrszimTGVu",
        "colab_type": "code",
        "colab": {
          "base_uri": "https://localhost:8080/",
          "height": 243
        },
        "outputId": "962281a3-c80f-4e73-f336-4cf000e698ff"
      },
      "source": [
        "fit(130, model, loss_fn, opt)"
      ],
      "execution_count": 29,
      "outputs": [
        {
          "output_type": "stream",
          "text": [
            "Epoch [10/130], Loss: 18.2604\n",
            "Epoch [20/130], Loss: 25.0675\n",
            "Epoch [30/130], Loss: 25.4676\n",
            "Epoch [40/130], Loss: 18.8794\n",
            "Epoch [50/130], Loss: 17.8878\n",
            "Epoch [60/130], Loss: 9.7283\n",
            "Epoch [70/130], Loss: 8.6670\n",
            "Epoch [80/130], Loss: 13.6883\n",
            "Epoch [90/130], Loss: 11.0214\n",
            "Epoch [100/130], Loss: 25.2273\n",
            "Epoch [110/130], Loss: 17.4987\n",
            "Epoch [120/130], Loss: 11.4668\n",
            "Epoch [130/130], Loss: 11.0753\n"
          ],
          "name": "stdout"
        }
      ]
    },
    {
      "cell_type": "code",
      "metadata": {
        "id": "ACnnJkMrTRmB",
        "colab_type": "code",
        "colab": {
          "base_uri": "https://localhost:8080/",
          "height": 277
        },
        "outputId": "789daf96-9e49-4f05-bf59-ac2c438c4e51"
      },
      "source": [
        "preds = model(inputs)\n",
        "preds"
      ],
      "execution_count": 30,
      "outputs": [
        {
          "output_type": "execute_result",
          "data": {
            "text/plain": [
              "tensor([[ 57.3219,  70.5689],\n",
              "        [ 79.9712,  98.0022],\n",
              "        [122.7033, 137.6890],\n",
              "        [ 22.3170,  38.5160],\n",
              "        [ 97.3885, 113.7795],\n",
              "        [ 57.3219,  70.5689],\n",
              "        [ 79.9712,  98.0022],\n",
              "        [122.7033, 137.6890],\n",
              "        [ 22.3170,  38.5160],\n",
              "        [ 97.3885, 113.7795],\n",
              "        [ 57.3219,  70.5689],\n",
              "        [ 79.9712,  98.0022],\n",
              "        [122.7033, 137.6890],\n",
              "        [ 22.3170,  38.5160],\n",
              "        [ 97.3885, 113.7795]], grad_fn=<AddmmBackward>)"
            ]
          },
          "metadata": {
            "tags": []
          },
          "execution_count": 30
        }
      ]
    },
    {
      "cell_type": "code",
      "metadata": {
        "id": "G9zqlqJiT0EV",
        "colab_type": "code",
        "colab": {
          "base_uri": "https://localhost:8080/",
          "height": 277
        },
        "outputId": "f22e803a-1f1d-4e37-d196-d9bc992da4cc"
      },
      "source": [
        "target"
      ],
      "execution_count": 31,
      "outputs": [
        {
          "output_type": "execute_result",
          "data": {
            "text/plain": [
              "tensor([[ 56.,  70.],\n",
              "        [ 81., 101.],\n",
              "        [119., 133.],\n",
              "        [ 22.,  37.],\n",
              "        [103., 119.],\n",
              "        [ 56.,  70.],\n",
              "        [ 81., 101.],\n",
              "        [119., 133.],\n",
              "        [ 22.,  37.],\n",
              "        [103., 119.],\n",
              "        [ 56.,  70.],\n",
              "        [ 81., 101.],\n",
              "        [119., 133.],\n",
              "        [ 22.,  37.],\n",
              "        [103., 119.]])"
            ]
          },
          "metadata": {
            "tags": []
          },
          "execution_count": 31
        }
      ]
    },
    {
      "cell_type": "code",
      "metadata": {
        "id": "gr458RPST2cD",
        "colab_type": "code",
        "colab": {}
      },
      "source": [
        ""
      ],
      "execution_count": 0,
      "outputs": []
    }
  ]
}